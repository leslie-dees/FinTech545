{
 "cells": [
  {
   "cell_type": "code",
   "execution_count": 6,
   "metadata": {},
   "outputs": [],
   "source": [
    "import sys\n",
    "sys.path.append('C:/Users/lesli/Documents/Duke/Masters/FinTech545')\n",
    "import fin_package as fin\n",
    "import pandas as pd\n",
    "from tqdm import tqdm\n",
    "import os\n",
    "\n",
    "# Using Portfolio.csv & DailyPrices.csv, assume expected return on all stocks is 0\n",
    "dailyprices = pd.read_csv(os.path.abspath(\"DailyPrices.csv\"))\n",
    "portfolio = pd.read_csv(os.path.abspath(\"portfolio.csv\"))\n",
    "\n",
    "returns = fin.return_calculate(dailyprices).drop(\"Date\", axis=1)\n",
    "# Portfolios of A, B, C\n",
    "portfolio_a = portfolio[portfolio['Portfolio'] == \"A\"]\n",
    "portfolio_b = portfolio[portfolio['Portfolio'] == \"B\"]\n",
    "portfolio_c = portfolio[portfolio['Portfolio'] == \"C\"]"
   ]
  },
  {
   "cell_type": "code",
   "execution_count": 30,
   "metadata": {},
   "outputs": [
    {
     "name": "stderr",
     "output_type": "stream",
     "text": [
      "Fitting T-Distribution to Stocks: 100%|██████████| 100/100 [00:13<00:00,  7.51it/s]\n"
     ]
    }
   ],
   "source": [
    "# Fit a Generalized T model to each stock\n",
    "t_dist_dict = {}\n",
    "stocks = portfolio['Stock']\n",
    "for stock in tqdm(stocks, desc=\"Fitting T-Distribution to Stocks\"):\n",
    "    s_df, s_mean, s_std = t.fit(dailyprices[stock])\n",
    "    stock_dict = {\n",
    "        'mean': s_mean,\n",
    "        'std_dev': s_std,\n",
    "        'df': s_df\n",
    "    }\n",
    "    t_dist_dict[stock] = stock_dict"
   ]
  },
  {
   "cell_type": "code",
   "execution_count": 36,
   "metadata": {},
   "outputs": [],
   "source": [
    "def portfolio_es(portfolio, stock_dict, dist = \"T\"):\n",
    "    if dist == \"T\":\n",
    "        portfolio_es_individual = []\n",
    "        for stock in portfolio['Stock']:\n",
    "            mean = stock_dict[stock]['mean']\n",
    "            std_dev = stock_dict[stock]['std_dev']\n",
    "            df = stock_dict[stock]['df']\n",
    "            stock_es = fin.calculate_es_t_distribution(mean, std_dev, df, alpha=0.05)\n",
    "            portfolio_es_individual.append(stock_es)\n",
    "        return portfolio_es_individual"
   ]
  },
  {
   "cell_type": "code",
   "execution_count": 37,
   "metadata": {},
   "outputs": [],
   "source": [
    "es_vals = portfolio_es(portfolio_a, t_dist_dict, dist = \"T\")"
   ]
  },
  {
   "cell_type": "code",
   "execution_count": 38,
   "metadata": {},
   "outputs": [
    {
     "name": "stdout",
     "output_type": "stream",
     "text": [
      "[121.81917512858038, 194.98280106687267, 76.35209238819502, 17.165888716565007, 77.16170500431762, 112.16439138391246, 77.57866163565228, 263.74311623393623, 54.71162500894929, 450.82883405316466, 89.83023406409856, 234.80782598713157, 106.73464057676256, 148.6358841614288, 182.9498204651322, 125.45917760186005, 293.7873724867309, 329.7766391934219, 262.1097407595319, 143.03507285645276, 85.27891529879841, 129.04542051778427, 444.04405278802557, 160.8271503736642, 221.85212805254352, 126.76223110499681, 55.01776427083804, 39.291861314365356, 118.21038694342879, 237.01337919926857, 240.8332649926929, 25.114520840305605, 490.66038997804617]\n"
     ]
    }
   ],
   "source": [
    "print(np.mean(es_vals))"
   ]
  }
 ],
 "metadata": {
  "kernelspec": {
   "display_name": "base",
   "language": "python",
   "name": "python3"
  },
  "language_info": {
   "codemirror_mode": {
    "name": "ipython",
    "version": 3
   },
   "file_extension": ".py",
   "mimetype": "text/x-python",
   "name": "python",
   "nbconvert_exporter": "python",
   "pygments_lexer": "ipython3",
   "version": "3.11.4"
  }
 },
 "nbformat": 4,
 "nbformat_minor": 2
}
